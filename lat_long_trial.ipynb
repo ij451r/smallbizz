{
 "cells": [
  {
   "cell_type": "code",
   "execution_count": 63,
   "metadata": {},
   "outputs": [
    {
     "ename": "ModuleNotFoundError",
     "evalue": "No module named 'url'",
     "output_type": "error",
     "traceback": [
      "\u001b[1;31m---------------------------------------------------------------------------\u001b[0m",
      "\u001b[1;31mModuleNotFoundError\u001b[0m                       Traceback (most recent call last)",
      "\u001b[1;32m<ipython-input-63-cb400ed9d9fc>\u001b[0m in \u001b[0;36m<module>\u001b[1;34m\u001b[0m\n\u001b[0;32m      1\u001b[0m \u001b[1;32mimport\u001b[0m \u001b[0mrequests\u001b[0m\u001b[1;33m\u001b[0m\u001b[1;33m\u001b[0m\u001b[0m\n\u001b[1;32m----> 2\u001b[1;33m \u001b[1;32mimport\u001b[0m \u001b[0murl\u001b[0m\u001b[1;33m\u001b[0m\u001b[1;33m\u001b[0m\u001b[0m\n\u001b[0m",
      "\u001b[1;31mModuleNotFoundError\u001b[0m: No module named 'url'"
     ]
    }
   ],
   "source": [
    "import requests\n"
   ]
  },
  {
   "cell_type": "code",
   "execution_count": 59,
   "metadata": {},
   "outputs": [],
   "source": [
    "response=requests.get('https://api.postalpincode.in/pincode/680566')"
   ]
  },
  {
   "cell_type": "code",
   "execution_count": 60,
   "metadata": {},
   "outputs": [
    {
     "name": "stdout",
     "output_type": "stream",
     "text": [
      "<Response [200]>\n"
     ]
    }
   ],
   "source": [
    "print(response)"
   ]
  },
  {
   "cell_type": "code",
   "execution_count": 3,
   "metadata": {},
   "outputs": [
    {
     "name": "stdout",
     "output_type": "stream",
     "text": [
      "Edassery/Thrissur/Kerala\n"
     ]
    }
   ],
   "source": [
    "add = \"Edassery-Thrissur-Kerala\"\n",
    "search=\"\"\n",
    "Iter=0\n",
    "for place in add.split('-'):\n",
    "    search+=place\n",
    "    Iter+=1\n",
    "    if Iter!=3:\n",
    "        search+=\"/\"\n",
    "print(search)\n",
    "    "
   ]
  },
  {
   "cell_type": "code",
   "execution_count": 78,
   "metadata": {},
   "outputs": [
    {
     "name": "stdout",
     "output_type": "stream",
     "text": [
      "<Response [200]>\n",
      "1\n",
      "Kooropada Kottayam Changanacherry Kottayam Kerala\n",
      "9.611809650000001, 76.65024739554795\n",
      "2\n",
      "Kothala Kottayam Changanacherry Kottayam Kerala\n",
      "18.9886995, 76.5599334\n",
      "3\n",
      "Lakkattoor Kottayam Changanacherry Kottayam Kerala\n",
      "9.606916550000001, 76.63415358318431\n",
      "4\n",
      "Pampady Kottayam Changanacherry Kottayam Kerala\n",
      "9.5656334, 76.6443645\n",
      "5\n",
      "Pangada Kottayam Changanacherry Kottayam Kerala\n",
      "17.5845333, 120.3714117\n",
      "6\n",
      "Pothenpuram Kottayam Changanacherry Kottayam Kerala\n",
      "9.5494159, 76.62604029328321\n",
      "7\n",
      "Suryanarayana Puram Kottayam Changanacherry Kottayam Kerala\n"
     ]
    }
   ],
   "source": [
    "response=requests.get('https://api.postalpincode.in/pincode/686502')\n",
    "print(response)\n",
    "data = response.json()\n",
    "num_PO = int(data[0][\"Message\"].split(':')[-1])\n",
    "c=1\n",
    "for i in range(num_PO):\n",
    "    print(c)\n",
    "    c+=1\n",
    "    PO_Office = data[0][\"PostOffice\"][i][\"Name\"]\n",
    "    Block = data[0][\"PostOffice\"][i][\"Block\"]\n",
    "    Division = data[0][\"PostOffice\"][i][\"Division\"]\n",
    "    District = data[0][\"PostOffice\"][i][\"District\"]\n",
    "    State = data[0][\"PostOffice\"][i][\"State\"]\n",
    "    print(PO_Office,Block,Division,District,State)\n",
    "    url = 'https://nominatim.openstreetmap.org/search/' + PO_Office +'?format=json'\n",
    "    response_=requests.get(url)\n",
    "    response = response_.json()\n",
    "    if response:\n",
    "        print(response[0]['lat']+', '+response[0]['lon'])"
   ]
  },
  {
   "cell_type": "code",
   "execution_count": 79,
   "metadata": {},
   "outputs": [
    {
     "name": "stdout",
     "output_type": "stream",
     "text": [
      "17.161933949999998, 80.71318852010508\n"
     ]
    }
   ],
   "source": [
    "url = 'https://nominatim.openstreetmap.org/search/' + 'Suryanarayana' +'?format=json'\n",
    "response_=requests.get(url)\n",
    "response = response_.json()\n",
    "if response:\n",
    "    print(response[0]['lat']+', '+response[0]['lon'])"
   ]
  },
  {
   "cell_type": "code",
   "execution_count": null,
   "metadata": {},
   "outputs": [],
   "source": [
    "[\n",
    "    { \"Message\":\"Number of pincode(s) found:2\",\n",
    "      \"Status\":\"Success\",\n",
    "      \"PostOffice\":[\n",
    "          {\"Name\":\"Nattika\",\n",
    "           \"Description\":null,\n",
    "           \"BranchType\":\"Sub Post Office\",\n",
    "           \"DeliveryStatus\":\"Delivery\",\n",
    "           \"Circle\":\"Kerala\",\n",
    "           \"District\":\"Thrissur\",\n",
    "           \"Division\":\"Irinjalakuda\",\n",
    "           \"Region\":\"Kochi\",\n",
    "           \"Block\":\"Chavakkad\",\n",
    "           \"State\":\"Kerala\",\n",
    "           \"Country\":\"India\",\n",
    "           \"Pincode\":\"680566\"\n",
    "          },\n",
    "          {\"Name\":\"Nattikabeach\",\n",
    "           \"Description\":null,\n",
    "           \"BranchType\":\"Branch Post Office\",\n",
    "           \"DeliveryStatus\":\"Delivery\",\n",
    "           \"Circle\":\"Kerala\",\n",
    "           \"District\":\"Thrissur\",\n",
    "           \"Division\":\"Irinjalakuda\",\n",
    "           \"Region\":\"Kochi\",\n",
    "           \"Block\":\"Chavakkad\",\n",
    "           \"State\":\"Kerala\",\n",
    "           \"Country\":\"India\",\n",
    "           \"Pincode\":\"680566\"\n",
    "          }]\n",
    "    }\n",
    "]"
   ]
  }
 ],
 "metadata": {
  "kernelspec": {
   "display_name": "Python 3",
   "language": "python",
   "name": "python3"
  },
  "language_info": {
   "codemirror_mode": {
    "name": "ipython",
    "version": 3
   },
   "file_extension": ".py",
   "mimetype": "text/x-python",
   "name": "python",
   "nbconvert_exporter": "python",
   "pygments_lexer": "ipython3",
   "version": "3.8.5"
  }
 },
 "nbformat": 4,
 "nbformat_minor": 4
}
